{
 "cells": [
  {
   "cell_type": "code",
   "execution_count": 1,
   "metadata": {
    "collapsed": true
   },
   "outputs": [],
   "source": [
    "'''\n",
    "Training:\n",
    "\tFor each training video:\n",
    "\t\t-construct a sequence of 1D-distance signals from person centroids\n",
    "\n",
    "\tPerform PCA on the sequence to reduce dimensionality\n",
    "\n",
    "Test Pre-process:\n",
    "\tGiven a training sequence\n",
    "\t\t-construct the sequence of 1D-distance signals\n",
    "\t\t-project onto eigenspace found in training process\n",
    "\n",
    "Classification:\n",
    "\tPerform KNN, SVM, or any other classification algorithm we would like to try\n",
    "'''\n",
    "import os\n",
    "import numpy as np\n",
    "import cv2\n",
    "from numpy import linalg as LA\n",
    "from sklearn import preprocessing\n",
    "from sklearn.cross_validation import train_test_split\n",
    "from sklearn.decomposition import PCA\n",
    "from sklearn import svm\n",
    "from sklearn.neighbors import KNeighborsClassifier\n",
    "from sklearn.pipeline import Pipeline\n",
    "\n",
    "def denoiseSilhouette(img):\n",
    "\t'''\n",
    "\tDenoise the image silhouettes to give a more rounded shape. Use this\n",
    "\twhen using real world images as background model will not be given\n",
    "\tand silhouettes will likely be noisier than training data.\n",
    "\t'''\n",
    "\tkernel = cv2.getStructuringElement(cv2.MORPH_ELLIPSE,(7,7))\n",
    "\terosion = cv2.erode(img,kernel,iterations = 2)\n",
    "\tdilation = cv2.dilate(erosion,kernel,iterations = 3)\n",
    "\tclosing = cv2.morphologyEx(img, cv2.MORPH_CLOSE, kernel)\n",
    "\n",
    "\treturn closing\n",
    "\n",
    "def findMaxContour(img):\n",
    "\t'''\n",
    "\tFind the largest contour in the image which should be the outline\n",
    "\tof the person.\n",
    "\t'''\n",
    "\timg2, contour,hier = cv2.findContours(img,cv2.RETR_EXTERNAL,cv2.CHAIN_APPROX_NONE)\n",
    "\tareas = [cv2.contourArea(c) for c in contour]\n",
    "\tcnt=contour[np.argmax(areas)]\n",
    "\n",
    "\tM = cv2.moments(cnt)\n",
    "\tcx = int(M['m10']/M['m00'])\n",
    "\tcy = int(M['m01']/M['m00'])\n",
    "\treturn cx, cy, cnt\n",
    "\n",
    "def toDistSeq(img_path):\n",
    "\t'''\n",
    "\tGiven the path to a folder of images representing frames of a video,\n",
    "\tturn each frame into a 1D distance signal and concatenate into an\n",
    "\timage.\n",
    "\t'''\n",
    "\timg = cv2.imread(img_path,0)\n",
    "\tdenoised = denoiseSilhouette(img)\n",
    "\tcx, cy, cnt = findMaxContour(denoised)\n",
    "\tdists = np.zeros(len(cnt))\n",
    "\n",
    "\t#Find distance betweem center to all contour poiints\n",
    "\tfor i in xrange(len(cnt)):\n",
    "\t\tx = cnt[i][0][0]\n",
    "\t\ty = cnt[i][0][1]\n",
    "\t\tdists[i] = np.sqrt(((x-cx)**2)+((y-cy)**2))\n",
    "\n",
    "\t#L1 normalization of distances\n",
    "\tdists_norm = dists / LA.norm(dists,1)\n",
    "\n",
    "\t#Subsample the vector to a constant size\n",
    "\tindices = np.linspace(0,len(dists_norm),360,endpoint=False,dtype=np.int32)\n",
    "\tsampled_dists = dists_norm[indices]\n",
    "\treturn sampled_dists\n",
    "\n",
    "def loadData(datapath,dataset):\n",
    "\t'''\n",
    "\tMOBO path form:\n",
    "\t/data/moboBgSub/userID/mode/vidID/orientation/frame.pbm\n",
    "\n",
    "\tCASIA path form:\n",
    "\t/DatasetB/silhouettes/subjectID/walkingStatus-seqNum/viewAngle\n",
    "\n",
    "\tCASIA has more data to train on so it's reccomended to use that dataset when training\n",
    "\t'''\n",
    "\tN = 100   #The number of frames from each sequence to use\n",
    "\tif(dataset==\"MOBO\"):\n",
    "\t\torientation_map = {'vr03_7':0,'vr05_7':1,'vr07_7':2,\n",
    "\t\t\t\t\t\t   'vr13_7':3,'vr16_7':4,'vr17_7':5,}\n",
    "\t\tX = np.zeros((6,100*25,360))\n",
    "\t\ty = np.zeros((6,100*25))\n",
    "\t\ttopLevel = datapath+\"/moboBgSub/\"\n",
    "\t\tindices = [0,0,0,0,0,0]\n",
    "\t\tfor userID in sorted(next(os.walk(topLevel))[1]):\n",
    "\t\t\tmode = \"slowWalk\"\n",
    "\t\t\tfor orientation in sorted(next(os.walk(topLevel+userID+\"/\"+\"slowWalk\"))[1]):\n",
    "\t\t\t\tn = 0\n",
    "\t\t\t\tclf_index = orientation_map[orientation]\n",
    "\t\t\t\tfor img in sorted(next(os.walk(topLevel+userID+\"/\"+mode+\"/\"+orientation))[2]):\n",
    "\t\t\t\t\tif(n >= N):\n",
    "\t\t\t\t\t\tbreak\n",
    "\t\t\t\t\timg_path = topLevel+userID+\"/\"+mode+\"/\"+orientation+\"/\"+img\n",
    "\t\t\t\t\tdistSignal = toDistSeq(img_path)\n",
    "\t\t\t\t\tX[clf_index,indices[clf_index],:] = distSignal\n",
    "\t\t\t\t\ty[clf_index,indices[clf_index]] = userID\n",
    "\t\t\t\t\tindices[clf_index] += 1\n",
    "\t\t\t\t\tn += 1\n",
    "\t\treturn X, y\n",
    "\n",
    "\telif(dataset==\"CASIA\"):\n",
    "\t\ttopLevel = datapath+\"/silhouettes/\"\n",
    "\t\tfor subID in next(os.walk(topLevel))[1]:\n",
    "\t\t\tfor seqNum in next(os.walk(topLevel+subID))[1]:\n",
    "\t\t\t\tfor viewAngle in next(os.walk(topLevel+subID+\"/\"+seqNum))[1]:\n",
    "\t\t\t\t\tfor img in next(os.walk(topLevel+subID+\"/\"+seqNum+\"/\"+viewAngle))[2]:\n",
    "\t\t\t\t\t\timg_path = topLevel+subID+\"/\"+seqNum+\"/\"+viewAngle+\"/\"+img\n",
    "\t\t\t\t\t\tdistSignal = toDistSeq(img_path)\n",
    "\telse:\n",
    "\t\tprint \"Invalid dataset input\"\n",
    "\t\treturn 0"
   ]
  },
  {
   "cell_type": "markdown",
   "metadata": {},
   "source": [
    "# Load the Data"
   ]
  },
  {
   "cell_type": "code",
   "execution_count": 2,
   "metadata": {
    "collapsed": true
   },
   "outputs": [],
   "source": [
    "#Load data and encode labels\n",
    "X, y = loadData('data','MOBO')\n",
    "le = preprocessing.LabelEncoder()\n",
    "le.fit(np.unique(y))\n",
    "y = le.transform(y)"
   ]
  },
  {
   "cell_type": "markdown",
   "metadata": {},
   "source": [
    "## Split Data into Train and Test Set"
   ]
  },
  {
   "cell_type": "code",
   "execution_count": 3,
   "metadata": {
    "collapsed": true
   },
   "outputs": [],
   "source": [
    "X = X[0,:,:]\n",
    "y = y[0,:]\n",
    "\n",
    "X_train, X_test, y_train, y_test = train_test_split(X, y, test_size=0.2, random_state=42)"
   ]
  },
  {
   "cell_type": "code",
   "execution_count": 30,
   "metadata": {
    "collapsed": false
   },
   "outputs": [
    {
     "data": {
      "text/plain": [
       "<matplotlib.text.Text at 0x7faf34cf2710>"
      ]
     },
     "execution_count": 30,
     "metadata": {},
     "output_type": "execute_result"
    },
    {
     "data": {
      "image/png": "[encoded data removed]",
      "text/plain": [
       "<matplotlib.figure.Figure at 0x7faf350be310>"
      ]
     },
     "metadata": {},
     "output_type": "display_data"
    }
   ],
   "source": [
    "%matplotlib inline\n",
    "import matplotlib.pyplot as plt\n",
    "\n",
    "component_grid = [5,10,20,50,75,100,125,150,175,200,225,250,275,300]\n",
    "\n",
    "scores = []\n",
    "for num_components in component_grid:\n",
    "\t#Perform PCA on data\n",
    "\tpca = PCA(n_components=num_components)\n",
    "\tpca.fit(X_train)\n",
    "\n",
    "\t#Traing KNN classifier\n",
    "\tneigh = KNeighborsClassifier(n_neighbors=10)\n",
    "\tneigh.fit(pca.transform(X_train),y_train)\n",
    "\n",
    "\t#Test the classifier\n",
    "\treduced = pca.transform(X_train)\n",
    "\tscore =  neigh.score(reduced,y_train)\n",
    "\tscores.append(score)\n",
    "\n",
    "plt.plot(component_grid,scores)\n",
    "plt.xlabel('PCA Components')\n",
    "plt.ylabel('Training Accuracy')\n",
    "plt.title('PCA with KNN Classifier(k=10)')"
   ]
  },
  {
   "cell_type": "code",
   "execution_count": 31,
   "metadata": {
    "collapsed": false
   },
   "outputs": [
    {
     "data": {
      "text/plain": [
       "<matplotlib.text.Text at 0x7faf34bc5e50>"
      ]
     },
     "execution_count": 31,
     "metadata": {},
     "output_type": "execute_result"
    },
    {
     "data": {
      "image/png": "[encoded data removed]",
      "text/plain": [
       "<matplotlib.figure.Figure at 0x7faf34d62890>"
      ]
     },
     "metadata": {},
     "output_type": "display_data"
    }
   ],
   "source": [
    "neighbor_grid = [2,3,4,5,6,7,9,11,15,20,25,30,40]\n",
    "pca = PCA(n_components=50)\n",
    "pca.fit(X_train)\n",
    "\n",
    "scores = []\n",
    "for neighbors in neighbor_grid: \n",
    "    clf = KNeighborsClassifier(n_neighbors=neighbors)\n",
    "    clf.fit(pca.transform(X_train),y_train)\n",
    "    \n",
    "    reduced = pca.transform(X_test)\n",
    "    score = clf.score(reduced,y_test)\n",
    "    scores.append(score)\n",
    "    \n",
    "plt.plot(neighbor_grid,scores)\n",
    "plt.xlabel('K')\n",
    "plt.ylabel('Training Accuracy')\n",
    "plt.title('PCA with KNN Classifier(n_components=50)')"
   ]
  },
  {
   "cell_type": "markdown",
   "metadata": {},
   "source": [
    "## GridSearch for Best KNN Classifier"
   ]
  },
  {
   "cell_type": "code",
   "execution_count": 12,
   "metadata": {
    "collapsed": false
   },
   "outputs": [
    {
     "name": "stdout",
     "output_type": "stream",
     "text": [
      "0.684\n"
     ]
    }
   ],
   "source": [
    "from sklearn.pipeline import Pipeline\n",
    "from sklearn.grid_search import GridSearchCV\n",
    "\n",
    "component_grid = [5,10,20,50,75,100,125,150,175,200,225,250,275,300]\n",
    "neighbor_grid = [2,3,4,5,6,7,9,11,15,20,25,30,40]\n",
    "\n",
    "estimators = [('reduce_dim', PCA()), ('knn', KNeighborsClassifier())]\n",
    "clf = Pipeline(estimators)\n",
    "\n",
    "params = {'reduce_dim__n_components':neighbor_grid,\n",
    "          'knn__n_neighbors':component_grid}\n",
    "\n",
    "grid_search = GridSearchCV(clf,param_grid=params)\n",
    "grid_search.fit(X_train,y_train)\n",
    "\n",
    "print grid_search.score(X_test,y_test)"
   ]
  },
  {
   "cell_type": "markdown",
   "metadata": {},
   "source": [
    "## GridSearch for Best SVM Classifier"
   ]
  },
  {
   "cell_type": "code",
   "execution_count": 21,
   "metadata": {
    "collapsed": false
   },
   "outputs": [
    {
     "name": "stdout",
     "output_type": "stream",
     "text": [
      "0.022\n"
     ]
    }
   ],
   "source": [
    "from sklearn import svm\n",
    "\n",
    "component_grid = [5,10,20,50,75,100,125,150,175,200,225,250,275,300]\n",
    "\n",
    "estimators = [('reduce_dim', PCA()), ('svm', svm.SVC())]\n",
    "clf = Pipeline(estimators)\n",
    "\n",
    "params = {'reduce_dim__n_components':neighbor_grid,\n",
    "          'svm__kernel':('linear', 'rbf'),\n",
    "          'svm__C':[1,3,5,7,10,15]}\n",
    "\n",
    "grid_search = GridSearchCV(clf,param_grid=params)\n",
    "grid_search.fit(X_train,y_train)\n",
    "\n",
    "print grid_search.score(X_test,y_test)"
   ]
  },
  {
   "cell_type": "code",
   "execution_count": 33,
   "metadata": {
    "collapsed": false
   },
   "outputs": [
    {
     "data": {
      "text/plain": [
       "<matplotlib.text.Text at 0x7faf34ab5bd0>"
      ]
     },
     "execution_count": 33,
     "metadata": {},
     "output_type": "execute_result"
    },
    {
     "data": {
      "image/png": "[encoded data removed]",
      "text/plain": [
       "<matplotlib.figure.Figure at 0x7faf34dc4c90>"
      ]
     },
     "metadata": {},
     "output_type": "display_data"
    }
   ],
   "source": [
    "from sklearn.lda import LDA\n",
    "\n",
    "component_grid = [5,10,20,50,75,100,125,150,175,200,225,250,275,300]\n",
    "\n",
    "scores = []\n",
    "for num_components in component_grid:\n",
    "\t#Perform PCA on data\n",
    "\tpca = LDA(n_components=num_components)\n",
    "\tpca.fit(X_train,y_train)\n",
    "\n",
    "\t#Traing KNN classifier\n",
    "\tneigh = KNeighborsClassifier(n_neighbors=10)\n",
    "\tneigh.fit(pca.transform(X_train),y_train)\n",
    "\n",
    "\t#Test the classifier\n",
    "\treduced = pca.transform(X_train)\n",
    "\tscore =  neigh.score(reduced,y_train)\n",
    "\tscores.append(score)\n",
    "\n",
    "plt.plot(component_grid,scores)\n",
    "plt.xlabel('LDA Components')\n",
    "plt.ylabel('Training Accuracy')\n",
    "plt.title('LDA with KNN Classifier(k=10)')"
   ]
  },
  {
   "cell_type": "markdown",
   "metadata": {},
   "source": [
    "## GridSearch for Best KNN Classifier"
   ]
  },
  {
   "cell_type": "code",
   "execution_count": 26,
   "metadata": {
    "collapsed": false
   },
   "outputs": [
    {
     "name": "stdout",
     "output_type": "stream",
     "text": [
      "0.88\n"
     ]
    },
    {
     "name": "stderr",
     "output_type": "stream",
     "text": [
      "/usr/local/lib/python2.7/dist-packages/sklearn/discriminant_analysis.py:453: UserWarning: The priors do not sum to 1. Renormalizing\n",
      "  UserWarning)\n"
     ]
    }
   ],
   "source": [
    "from sklearn.pipeline import Pipeline\n",
    "from sklearn.grid_search import GridSearchCV\n",
    "\n",
    "component_grid = [5,10,20,50,75,100]\n",
    "neighbor_grid = [2,3,4,5,6,7,9,11,15,20,25,30,40]\n",
    "\n",
    "estimators = [('reduce_dim', LDA()), ('knn', KNeighborsClassifier())]\n",
    "clf = Pipeline(estimators)\n",
    "\n",
    "params = {'reduce_dim__n_components':neighbor_grid,\n",
    "          'knn__n_neighbors':component_grid}\n",
    "\n",
    "grid_search = GridSearchCV(clf,param_grid=params)\n",
    "grid_search.fit(X_train,y_train)\n",
    "\n",
    "print grid_search.score(X_test,y_test)"
   ]
  },
  {
   "cell_type": "markdown",
   "metadata": {},
   "source": [
    "## GridSearch for Best SVM Classifier"
   ]
  },
  {
   "cell_type": "code",
   "execution_count": 27,
   "metadata": {
    "collapsed": false
   },
   "outputs": [
    {
     "name": "stdout",
     "output_type": "stream",
     "text": [
      "0.84\n"
     ]
    }
   ],
   "source": [
    "from sklearn import svm\n",
    "\n",
    "component_grid = [5,10,20,50,75,100]\n",
    "\n",
    "estimators = [('reduce_dim', LDA()), ('svm', svm.SVC())]\n",
    "clf = Pipeline(estimators)\n",
    "\n",
    "params = {'reduce_dim__n_components':neighbor_grid,\n",
    "          'svm__kernel':('linear', 'rbf'),\n",
    "          'svm__C':[1,3,5,7,10,15]}\n",
    "\n",
    "grid_search = GridSearchCV(clf,param_grid=params)\n",
    "grid_search.fit(X_train,y_train)\n",
    "\n",
    "print grid_search.score(X_test,y_test)"
   ]
  },
  {
   "cell_type": "code",
   "execution_count": null,
   "metadata": {
    "collapsed": true
   },
   "outputs": [],
   "source": []
  }
 ],
 "metadata": {
  "kernelspec": {
   "display_name": "Python 2",
   "language": "python",
   "name": "python2"
  },
  "language_info": {
   "codemirror_mode": {
    "name": "ipython",
    "version": 2
   },
   "file_extension": ".py",
   "mimetype": "text/x-python",
   "name": "python",
   "nbconvert_exporter": "python",
   "pygments_lexer": "ipython2",
   "version": "2.7.6"
  }
 },
 "nbformat": 4,
 "nbformat_minor": 0
}
